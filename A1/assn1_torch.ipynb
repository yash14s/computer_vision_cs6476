{
  "cells": [
    {
      "cell_type": "markdown",
      "metadata": {
        "id": "_p3KP4I9S9N1"
      },
      "source": [
        "# CS 6476 Assignment 1\n",
        "\n",
        "This is the second part of the assignment. We aim to develop an understanding of the PyTorch deep learning framework. There are two main problems in this part:   \n",
        "1. Write your own `Linear` layer by subclassing `nn.Module`.\n",
        "2. Train a small model by writing your own optmizer and loss functions.\n"
      ]
    },
    {
      "cell_type": "markdown",
      "metadata": {
        "id": "1TlNYPi0Vkim"
      },
      "source": [
        "## Brief introduction to PyTorch\n",
        "\n",
        "\n",
        "For anyone who is new to PyTorch, here is a quick glance of the features of the framework:   \n",
        "- Numpy-like API with GPU support\n",
        "- Pythonic object-oriented programming paradigm\n",
        "- Dynamic computation graph generation and execution\n",
        "- Automatic differentiation\n",
        "\n",
        "We will be using PyTorch for the programming assignments of this course. Thus, it is crucial to have clarity on how to build and train networks using torch.\n",
        "\n",
        "There are three main components to any deep learning pipeline:\n",
        "1. **Data loading and preprocessing**: PyTorch provides `torch.utils.data.Dataset` and `torch.utils.data.DataLoader` utilities to facilitate data fetching and batch collation.\n",
        "2.  **Model creation**: Most models can be created by subclassing `nn.Module` and overriding the `forward` method. The user does not need to implement the backprop, as it is handled by PyTorch's autograd system.\n",
        "3. **Model training**: Torch provides optimizers and losses through the `torch.optim` and `torch.nn` modules to be used during model training.\n",
        "\n",
        "Each of these deserves their own place in the assignment, however in this assignment, we are going to focus only on the model creation and training. I have added some extra reading material in the end in case anyone is interested."
      ]
    },
    {
      "cell_type": "markdown",
      "metadata": {
        "id": "jMG658y0X0dA"
      },
      "source": [
        "## Problem 1: Writing your own `Linear` layer by subclassing `nn.Module`\n",
        "\n",
        "In this problem, you have to code up a custom implementation of the [`Linear` layer](https://pytorch.org/docs/stable/generated/torch.nn.Linear.html). We want the layer to perform the following operation:\n",
        "\n",
        "\\begin{align}\n",
        "    output = XW_1 + X^2W_2 + b \\\\\n",
        "\\end{align}\n",
        "where $W_1$, $W_2$ and $b$ are trainable weights.\n",
        "\n",
        "\n",
        "\n",
        "For this, here are the steps you need to follow:\n",
        "1. Subclass `nn.Module` to create a custom layer class.\n",
        "2. Initialize model parameters $W_1$, $W_2$ and $b$ using `nn.Parameter`. Use the `torch.randn()` method for initialization of tensor.\n",
        "3. Implement the `forward` method in the module."
      ]
    },
    {
      "cell_type": "markdown",
      "metadata": {
        "id": "TCpb5S6cwHRT"
      },
      "source": [
        "Run the following command to install the required libraries:\n",
        "```\n",
        "pip install numpy torch gdown\n",
        "```"
      ]
    },
    {
      "cell_type": "markdown",
      "metadata": {
        "id": "oKtB02AAiJCs"
      },
      "source": [
        "### Imports and set seed"
      ]
    },
    {
      "cell_type": "code",
      "execution_count": 1,
      "metadata": {
        "id": "t0hEtwt7iBIC"
      },
      "outputs": [],
      "source": [
        "import torch\n",
        "import random\n",
        "import numpy as np\n",
        "import gdown\n",
        "\n",
        "def set_seed(seed=42):\n",
        "    random.seed(seed)\n",
        "    np.random.seed(seed)\n",
        "    torch.manual_seed(seed)\n",
        "    if torch.cuda.is_available():\n",
        "        torch.cuda.manual_seed_all(seed)\n",
        "\n",
        "set_seed()"
      ]
    },
    {
      "cell_type": "markdown",
      "metadata": {
        "id": "jiOR8dFZiM3E"
      },
      "source": [
        "### Implementing `MyLinear` module"
      ]
    },
    {
      "cell_type": "code",
      "execution_count": 2,
      "metadata": {
        "id": "MKDx4TeRSJjM"
      },
      "outputs": [],
      "source": [
        "import torch\n",
        "from torch import nn\n",
        "\n",
        "class MyLinear(nn.Module):\n",
        "    \"\"\"\n",
        "    Subclass of nn.Module.\n",
        "    Input:\n",
        "        input_dim: feature dimension of input to the layer\n",
        "        output_dim: feature dimension of output of the layer\n",
        "\n",
        "    \"\"\"\n",
        "    def __init__(self, input_dim, output_dim):\n",
        "        super().__init__()\n",
        "        self.input_dim = input_dim\n",
        "        self.output_dim = output_dim\n",
        "\n",
        "        ############## START CODE HERE\n",
        "        # Warning: Be careful with tensor shapes. Make sure the weights and inputs can be multiplied.\n",
        "        # Models are sensitive to weight initialization. Initialize the weights\n",
        "        # from a normal distribution with zero mean and 0.01 standard deviation.\n",
        "        \n",
        "        self.w1 = torch.normal(mean=0, std=0.01, size=(self.input_dim, self.output_dim), requires_grad=True)\n",
        "        self.w2 = torch.normal(mean=0, std=0.01, size=(self.input_dim, self.output_dim), requires_grad=True)\n",
        "        self.b = torch.zeros(output_dim)\n",
        "\n",
        "        ############## END CODE HERE\n",
        "\n",
        "    def forward(self, inputs):\n",
        "        \"\"\"\n",
        "        Implement the forward pass for the given expression.\n",
        "\n",
        "        Inputs:\n",
        "            inputs: the input tensor having the shape (batch_size, input_dim)\n",
        "\n",
        "        Outputs:\n",
        "            outputs: tensor having the shape (batch_size, output_dim)\n",
        "        \"\"\"\n",
        "\n",
        "\n",
        "        ############## START CODE HERE\n",
        "        outputs = torch.matmul(inputs, self.w1) + torch.matmul(torch.square(inputs), self.w2) + self.b\n",
        "        ############## END CODE HERE\n",
        "\n",
        "        return outputs"
      ]
    },
    {
      "cell_type": "markdown",
      "metadata": {
        "id": "oGWSphtVvGrI"
      },
      "source": [
        "You have completed the first problem of this section."
      ]
    },
    {
      "cell_type": "markdown",
      "metadata": {
        "id": "wEZx2GqKu894"
      },
      "source": [
        "## Problem 2: Train a small model by writing your own optmizer and loss functions.\n",
        "\n",
        "In this problem, you have to implement a loss funtion and the stochastic gradient descent algorithm to solve the regression problem.\n",
        "\n",
        "\n",
        "Your goal for this problem is to train the model with Mean Squared Error (MSE) loss and Stochastic Gradient Descent (SGD) algorithm. The number of epochs and the learning rate for the model is fixed. The data for the model has been stored as `.pt` files, which will be loaded in `x_train` and `y_train` for you. You will also be provided unseen samples, `x_test`, and you have to use your model to predict on these samples.\n",
        "\n",
        "To limit computational burden, the input data will have rank=4 and the output will be a single float. The training data has 500 samples, whereas the testing data has 100 samples. You must submit the predictions in a `.pt` file. We will average over the loss on testing dataset and assign you a score accordingly."
      ]
    },
    {
      "cell_type": "markdown",
      "metadata": {
        "id": "fDEJpuUTxHtk"
      },
      "source": [
        "For your reference, here are the formulae for MSE and SGD:\n",
        "\n",
        "\n",
        "MSE:\n",
        "\\begin{align}\n",
        "    loss = \\frac{1}{n}\\Sigma_{i=1}^{n} (y_i - ỹ_i)^2 \\\\\n",
        "\\end{align}\n",
        "\n",
        "where $n$ is the number of samples, $y_i$ is the true label and $ỹ_i$ is the predicted label for the $i^{th}$ sample.\n",
        "\n",
        "SGD:\n",
        "\\begin{align}\n",
        "    θ_{t+1} := θ_{t} - α⋅\\triangledown_{θ}\\mathcal{L}(y, ỹ)\n",
        "\\end{align}\n",
        "\n",
        "where $θ_{t}$ and $θ_{t+1}$ are the model weights at timesteps $t$ and $t+1$ respectively, $\\alpha$ is the learning rate and $\\triangledown_{θ}\\mathcal{L}(y, ỹ)$ is the gradient of the loss function $\\mathcal{L}$ with respect to model weights.\n"
      ]
    },
    {
      "cell_type": "markdown",
      "metadata": {
        "id": "doZoVCe6031k"
      },
      "source": [
        "### Loss function"
      ]
    },
    {
      "cell_type": "code",
      "execution_count": 3,
      "metadata": {
        "id": "UISDwNQZumjY"
      },
      "outputs": [],
      "source": [
        "def mse_loss(y_true, y_pred):\n",
        "    \"\"\"\n",
        "    Implement the Mean Squared Error loss function.\n",
        "\n",
        "    Inputs:\n",
        "        y_true: expected output values having shape (batch_size,)\n",
        "        y_pred: predicted output values having shape (batch_size,)\n",
        "\n",
        "    Output:\n",
        "        The calculated loss for the given batch.\n",
        "\n",
        "    \"\"\"\n",
        "    ############## START CODE HERE\n",
        "    loss = torch.mean((torch.square(y_true - y_pred)))\n",
        "    return loss\n",
        "    ############## END CODE HERE"
      ]
    },
    {
      "cell_type": "markdown",
      "metadata": {
        "id": "DhoqdujO05g7"
      },
      "source": [
        "### Gradient descent"
      ]
    },
    {
      "cell_type": "code",
      "execution_count": 4,
      "metadata": {
        "id": "Bkm0R9bw0Bz-"
      },
      "outputs": [],
      "source": [
        "def sgd_step(model, learning_rate):\n",
        "    \"\"\"\n",
        "    Implement a single step of SGD.\n",
        "\n",
        "    Steps:\n",
        "        Iterate over all model parameters. For each model parameter:\n",
        "            1. Access parameter weights using `data` attribute.\n",
        "            2. Update the parameter using the SGD formula. The gradient is stored in the `grad` attribute of the parameter.\n",
        "            3. (IMPORTANT) Set the `grad` attribute to zero, so the gradients are not accumulated across timesteps.\n",
        "\n",
        "    Inputs:\n",
        "        model: the model containing two `MyLinear` layers\n",
        "        learning_rate: learning rate to apply SGD with (see \\alpha in above equation)\n",
        "\n",
        "    Outputs:\n",
        "        None\n",
        "    \"\"\"\n",
        "    ############## START CODE HERE\n",
        "    with torch.no_grad():\n",
        "        for _, param in model.parameters():\n",
        "            param -= learning_rate * param.grad\n",
        "            param.grad = None\n",
        "\n",
        "    ############## END CODE HERE"
      ]
    },
    {
      "cell_type": "markdown",
      "metadata": {
        "id": "9oX0z5C7wjqS"
      },
      "source": [
        "### Download train and test data"
      ]
    },
    {
      "cell_type": "code",
      "execution_count": 5,
      "metadata": {
        "id": "zySs0DmfwuDe"
      },
      "outputs": [],
      "source": [
        "def download_and_load(resource_name):\n",
        "    file_ids = dict()\n",
        "    file_ids[\"x_train\"] = \"1En9Il86rT2dRgeYFToYfh_2BNNwAn2VJ\"\n",
        "    file_ids[\"x_test\"] = \"1CrjZqUWVCKtCon5OyOeKTjFxwn4WMc3A\"\n",
        "    file_ids[\"y_train\"] = \"1GVcqF3R3D0gM38ivyD0t2xau7rqAo5Yf\"\n",
        "\n",
        "    output = resource_name + \".pt\"\n",
        "    gdown.download(id=file_ids[resource_name], output=output, quiet=False)\n",
        "\n",
        "    asset = torch.load(output)\n",
        "    return asset"
      ]
    },
    {
      "cell_type": "markdown",
      "metadata": {
        "id": "ARTUebmr3VV-"
      },
      "source": [
        "### Training the model"
      ]
    },
    {
      "cell_type": "markdown",
      "metadata": {
        "id": "atUqeX-A-XCk"
      },
      "source": [
        "Here I have loaded the training and testing data and initialized the model.  "
      ]
    },
    {
      "cell_type": "code",
      "execution_count": 6,
      "metadata": {
        "id": "RGpmd74E3RhJ"
      },
      "outputs": [
        {
          "name": "stderr",
          "output_type": "stream",
          "text": [
            "Downloading...\n",
            "From: https://drive.google.com/uc?id=1En9Il86rT2dRgeYFToYfh_2BNNwAn2VJ\n",
            "To: d:\\OneDrive - Georgia Institute of Technology\\GaTech\\Academics\\Fall 2023\\Computer Vision\\Assignments\\A1\\x_train.pt\n",
            "100%|██████████| 8.75k/8.75k [00:00<00:00, 4.37MB/s]\n",
            "Downloading...\n",
            "From: https://drive.google.com/uc?id=1GVcqF3R3D0gM38ivyD0t2xau7rqAo5Yf\n",
            "To: d:\\OneDrive - Georgia Institute of Technology\\GaTech\\Academics\\Fall 2023\\Computer Vision\\Assignments\\A1\\y_train.pt\n",
            "100%|██████████| 2.73k/2.73k [00:00<00:00, 2.75MB/s]\n",
            "Downloading...\n",
            "From: https://drive.google.com/uc?id=1CrjZqUWVCKtCon5OyOeKTjFxwn4WMc3A\n",
            "To: d:\\OneDrive - Georgia Institute of Technology\\GaTech\\Academics\\Fall 2023\\Computer Vision\\Assignments\\A1\\x_test.pt\n",
            "100%|██████████| 2.28k/2.28k [00:00<00:00, 2.29MB/s]\n"
          ]
        }
      ],
      "source": [
        "x_train = download_and_load(\"x_train\")\n",
        "y_train = download_and_load(\"y_train\")\n",
        "\n",
        "x_test = download_and_load(\"x_test\")\n",
        "\n",
        "model = nn.Sequential(MyLinear(4, 5), MyLinear(5, 1))\n",
        "# More info on nn.Sequential: pytorch.org/docs/stable/generated/torch.nn.Sequential.html"
      ]
    },
    {
      "cell_type": "markdown",
      "metadata": {
        "id": "PQut9MlZ-g-5"
      },
      "source": [
        "Write the code for one epoch of training below.\n",
        "\n",
        "Note that we are not training on minibatches, which is the norm in modern deep learning. We will address this issue in the upcoming assignments.\n",
        "\n",
        "We will train the model for 300 epochs with learning rate 0.003."
      ]
    },
    {
      "cell_type": "code",
      "execution_count": 7,
      "metadata": {
        "id": "rzwAqv3o4Cpr"
      },
      "outputs": [],
      "source": [
        "EPOCHS = 300\n",
        "LEARNING_RATE = 0.003\n",
        "\n",
        "def train(x_train, y_train, model, epochs, learning_rate):\n",
        "    \"\"\"\n",
        "    Implement model training.\n",
        "\n",
        "    Steps:\n",
        "        Iterate over number of epochs. For each epoch:\n",
        "            1. Get model predictions.\n",
        "            2. Calculate loss between model predictions and ground truth labels.\n",
        "            3. Backpropagate the loss.\n",
        "            4. Perform SGD step.\n",
        "\n",
        "    Inputs:\n",
        "        x_train: model input for training samples\n",
        "        y_train: expected model output for `x_train`\n",
        "        model: the model containing two `MyLinear` layers\n",
        "        epochs: number of epochs to train the model for\n",
        "        learning_rate: learning rate to apply SGD with (see \\alpha in above equation)\n",
        "\n",
        "    Outputs:\n",
        "        None\n",
        "    \"\"\"\n",
        "    ############## START CODE HERE\n",
        "    for epoch in range(epochs):\n",
        "        epoch += 1\n",
        "        y_pred = model.forward(x_train)\n",
        "        loss = mse_loss(y_train, y_pred)\n",
        "        print(loss)\n",
        "        loss.backward()\n",
        "        sgd_step(model, learning_rate)\n",
        "    ############## END CODE HERE"
      ]
    },
    {
      "cell_type": "markdown",
      "metadata": {
        "id": "dS-eLfsg_FUo"
      },
      "source": [
        "The training loss should be less then 0.0025. \n",
        "\n",
        "**Evaluation will be on the basis of test loss only, training loss is given only for reference.**"
      ]
    },
    {
      "cell_type": "code",
      "execution_count": 8,
      "metadata": {
        "id": "3VwawNAV5cSW"
      },
      "outputs": [],
      "source": [
        "def predict(model, x_test):\n",
        "    \"\"\"\n",
        "    Implement model prediction.\n",
        "\n",
        "    Inputs:\n",
        "        model: the trained model containing two `MyLinear` layers\n",
        "        x_test: model input for testing samples\n",
        "\n",
        "    Outputs:\n",
        "        model predictions\n",
        "    \"\"\"\n",
        "\n",
        "    ############## START CODE HERE\n",
        "    predictions = model.forward(x_test)\n",
        "    ############## END CODE HERE\n",
        "    return predictions"
      ]
    },
    {
      "cell_type": "code",
      "execution_count": 9,
      "metadata": {},
      "outputs": [
        {
          "name": "stdout",
          "output_type": "stream",
          "text": [
            "tensor(0.0056, grad_fn=<MeanBackward0>)\n",
            "tensor(0.0056, grad_fn=<MeanBackward0>)\n",
            "tensor(0.0056, grad_fn=<MeanBackward0>)\n",
            "tensor(0.0056, grad_fn=<MeanBackward0>)\n",
            "tensor(0.0056, grad_fn=<MeanBackward0>)\n",
            "tensor(0.0056, grad_fn=<MeanBackward0>)\n",
            "tensor(0.0056, grad_fn=<MeanBackward0>)\n",
            "tensor(0.0056, grad_fn=<MeanBackward0>)\n",
            "tensor(0.0056, grad_fn=<MeanBackward0>)\n",
            "tensor(0.0056, grad_fn=<MeanBackward0>)\n",
            "tensor(0.0056, grad_fn=<MeanBackward0>)\n",
            "tensor(0.0056, grad_fn=<MeanBackward0>)\n",
            "tensor(0.0056, grad_fn=<MeanBackward0>)\n",
            "tensor(0.0056, grad_fn=<MeanBackward0>)\n",
            "tensor(0.0056, grad_fn=<MeanBackward0>)\n",
            "tensor(0.0056, grad_fn=<MeanBackward0>)\n",
            "tensor(0.0056, grad_fn=<MeanBackward0>)\n",
            "tensor(0.0056, grad_fn=<MeanBackward0>)\n",
            "tensor(0.0056, grad_fn=<MeanBackward0>)\n",
            "tensor(0.0056, grad_fn=<MeanBackward0>)\n",
            "tensor(0.0056, grad_fn=<MeanBackward0>)\n",
            "tensor(0.0056, grad_fn=<MeanBackward0>)\n",
            "tensor(0.0056, grad_fn=<MeanBackward0>)\n",
            "tensor(0.0056, grad_fn=<MeanBackward0>)\n",
            "tensor(0.0056, grad_fn=<MeanBackward0>)\n",
            "tensor(0.0056, grad_fn=<MeanBackward0>)\n",
            "tensor(0.0056, grad_fn=<MeanBackward0>)\n",
            "tensor(0.0056, grad_fn=<MeanBackward0>)\n",
            "tensor(0.0056, grad_fn=<MeanBackward0>)\n",
            "tensor(0.0056, grad_fn=<MeanBackward0>)\n",
            "tensor(0.0056, grad_fn=<MeanBackward0>)\n",
            "tensor(0.0056, grad_fn=<MeanBackward0>)\n",
            "tensor(0.0056, grad_fn=<MeanBackward0>)\n",
            "tensor(0.0056, grad_fn=<MeanBackward0>)\n",
            "tensor(0.0056, grad_fn=<MeanBackward0>)\n",
            "tensor(0.0056, grad_fn=<MeanBackward0>)\n",
            "tensor(0.0056, grad_fn=<MeanBackward0>)\n",
            "tensor(0.0056, grad_fn=<MeanBackward0>)\n",
            "tensor(0.0056, grad_fn=<MeanBackward0>)\n",
            "tensor(0.0056, grad_fn=<MeanBackward0>)\n",
            "tensor(0.0056, grad_fn=<MeanBackward0>)\n",
            "tensor(0.0056, grad_fn=<MeanBackward0>)\n",
            "tensor(0.0056, grad_fn=<MeanBackward0>)\n",
            "tensor(0.0056, grad_fn=<MeanBackward0>)\n",
            "tensor(0.0056, grad_fn=<MeanBackward0>)\n",
            "tensor(0.0056, grad_fn=<MeanBackward0>)\n",
            "tensor(0.0056, grad_fn=<MeanBackward0>)\n",
            "tensor(0.0056, grad_fn=<MeanBackward0>)\n",
            "tensor(0.0056, grad_fn=<MeanBackward0>)\n",
            "tensor(0.0056, grad_fn=<MeanBackward0>)\n",
            "tensor(0.0056, grad_fn=<MeanBackward0>)\n",
            "tensor(0.0056, grad_fn=<MeanBackward0>)\n",
            "tensor(0.0056, grad_fn=<MeanBackward0>)\n",
            "tensor(0.0056, grad_fn=<MeanBackward0>)\n",
            "tensor(0.0056, grad_fn=<MeanBackward0>)\n",
            "tensor(0.0056, grad_fn=<MeanBackward0>)\n",
            "tensor(0.0056, grad_fn=<MeanBackward0>)\n",
            "tensor(0.0056, grad_fn=<MeanBackward0>)\n",
            "tensor(0.0056, grad_fn=<MeanBackward0>)\n",
            "tensor(0.0056, grad_fn=<MeanBackward0>)\n",
            "tensor(0.0056, grad_fn=<MeanBackward0>)\n",
            "tensor(0.0056, grad_fn=<MeanBackward0>)\n",
            "tensor(0.0056, grad_fn=<MeanBackward0>)\n",
            "tensor(0.0056, grad_fn=<MeanBackward0>)\n",
            "tensor(0.0056, grad_fn=<MeanBackward0>)\n",
            "tensor(0.0056, grad_fn=<MeanBackward0>)\n",
            "tensor(0.0056, grad_fn=<MeanBackward0>)\n",
            "tensor(0.0056, grad_fn=<MeanBackward0>)\n",
            "tensor(0.0056, grad_fn=<MeanBackward0>)\n",
            "tensor(0.0056, grad_fn=<MeanBackward0>)\n",
            "tensor(0.0056, grad_fn=<MeanBackward0>)\n",
            "tensor(0.0056, grad_fn=<MeanBackward0>)\n",
            "tensor(0.0056, grad_fn=<MeanBackward0>)\n",
            "tensor(0.0056, grad_fn=<MeanBackward0>)\n",
            "tensor(0.0056, grad_fn=<MeanBackward0>)\n",
            "tensor(0.0056, grad_fn=<MeanBackward0>)\n",
            "tensor(0.0056, grad_fn=<MeanBackward0>)\n",
            "tensor(0.0056, grad_fn=<MeanBackward0>)\n",
            "tensor(0.0056, grad_fn=<MeanBackward0>)\n",
            "tensor(0.0056, grad_fn=<MeanBackward0>)\n",
            "tensor(0.0056, grad_fn=<MeanBackward0>)\n",
            "tensor(0.0056, grad_fn=<MeanBackward0>)\n",
            "tensor(0.0056, grad_fn=<MeanBackward0>)\n",
            "tensor(0.0056, grad_fn=<MeanBackward0>)\n",
            "tensor(0.0056, grad_fn=<MeanBackward0>)\n",
            "tensor(0.0056, grad_fn=<MeanBackward0>)\n",
            "tensor(0.0056, grad_fn=<MeanBackward0>)\n",
            "tensor(0.0056, grad_fn=<MeanBackward0>)\n",
            "tensor(0.0056, grad_fn=<MeanBackward0>)\n",
            "tensor(0.0056, grad_fn=<MeanBackward0>)\n",
            "tensor(0.0056, grad_fn=<MeanBackward0>)\n",
            "tensor(0.0056, grad_fn=<MeanBackward0>)\n",
            "tensor(0.0056, grad_fn=<MeanBackward0>)\n",
            "tensor(0.0056, grad_fn=<MeanBackward0>)\n",
            "tensor(0.0056, grad_fn=<MeanBackward0>)\n",
            "tensor(0.0056, grad_fn=<MeanBackward0>)\n",
            "tensor(0.0056, grad_fn=<MeanBackward0>)\n",
            "tensor(0.0056, grad_fn=<MeanBackward0>)\n",
            "tensor(0.0056, grad_fn=<MeanBackward0>)\n",
            "tensor(0.0056, grad_fn=<MeanBackward0>)\n",
            "tensor(0.0056, grad_fn=<MeanBackward0>)\n",
            "tensor(0.0056, grad_fn=<MeanBackward0>)\n",
            "tensor(0.0056, grad_fn=<MeanBackward0>)\n",
            "tensor(0.0056, grad_fn=<MeanBackward0>)\n",
            "tensor(0.0056, grad_fn=<MeanBackward0>)\n",
            "tensor(0.0056, grad_fn=<MeanBackward0>)\n",
            "tensor(0.0056, grad_fn=<MeanBackward0>)\n",
            "tensor(0.0056, grad_fn=<MeanBackward0>)\n",
            "tensor(0.0056, grad_fn=<MeanBackward0>)\n",
            "tensor(0.0056, grad_fn=<MeanBackward0>)\n",
            "tensor(0.0056, grad_fn=<MeanBackward0>)\n",
            "tensor(0.0056, grad_fn=<MeanBackward0>)\n",
            "tensor(0.0056, grad_fn=<MeanBackward0>)\n",
            "tensor(0.0056, grad_fn=<MeanBackward0>)\n",
            "tensor(0.0056, grad_fn=<MeanBackward0>)\n",
            "tensor(0.0056, grad_fn=<MeanBackward0>)\n",
            "tensor(0.0056, grad_fn=<MeanBackward0>)\n",
            "tensor(0.0056, grad_fn=<MeanBackward0>)\n",
            "tensor(0.0056, grad_fn=<MeanBackward0>)\n",
            "tensor(0.0056, grad_fn=<MeanBackward0>)\n",
            "tensor(0.0056, grad_fn=<MeanBackward0>)\n",
            "tensor(0.0056, grad_fn=<MeanBackward0>)\n",
            "tensor(0.0056, grad_fn=<MeanBackward0>)\n",
            "tensor(0.0056, grad_fn=<MeanBackward0>)\n",
            "tensor(0.0056, grad_fn=<MeanBackward0>)\n",
            "tensor(0.0056, grad_fn=<MeanBackward0>)\n",
            "tensor(0.0056, grad_fn=<MeanBackward0>)\n",
            "tensor(0.0056, grad_fn=<MeanBackward0>)\n",
            "tensor(0.0056, grad_fn=<MeanBackward0>)\n",
            "tensor(0.0056, grad_fn=<MeanBackward0>)\n",
            "tensor(0.0056, grad_fn=<MeanBackward0>)\n",
            "tensor(0.0056, grad_fn=<MeanBackward0>)\n",
            "tensor(0.0056, grad_fn=<MeanBackward0>)\n",
            "tensor(0.0056, grad_fn=<MeanBackward0>)\n",
            "tensor(0.0056, grad_fn=<MeanBackward0>)\n",
            "tensor(0.0056, grad_fn=<MeanBackward0>)\n",
            "tensor(0.0056, grad_fn=<MeanBackward0>)\n",
            "tensor(0.0056, grad_fn=<MeanBackward0>)\n",
            "tensor(0.0056, grad_fn=<MeanBackward0>)\n",
            "tensor(0.0056, grad_fn=<MeanBackward0>)\n",
            "tensor(0.0056, grad_fn=<MeanBackward0>)\n",
            "tensor(0.0056, grad_fn=<MeanBackward0>)\n",
            "tensor(0.0056, grad_fn=<MeanBackward0>)\n",
            "tensor(0.0056, grad_fn=<MeanBackward0>)\n",
            "tensor(0.0056, grad_fn=<MeanBackward0>)\n",
            "tensor(0.0056, grad_fn=<MeanBackward0>)\n",
            "tensor(0.0056, grad_fn=<MeanBackward0>)\n",
            "tensor(0.0056, grad_fn=<MeanBackward0>)\n",
            "tensor(0.0056, grad_fn=<MeanBackward0>)\n",
            "tensor(0.0056, grad_fn=<MeanBackward0>)\n",
            "tensor(0.0056, grad_fn=<MeanBackward0>)\n",
            "tensor(0.0056, grad_fn=<MeanBackward0>)\n",
            "tensor(0.0056, grad_fn=<MeanBackward0>)\n",
            "tensor(0.0056, grad_fn=<MeanBackward0>)\n",
            "tensor(0.0056, grad_fn=<MeanBackward0>)\n",
            "tensor(0.0056, grad_fn=<MeanBackward0>)\n",
            "tensor(0.0056, grad_fn=<MeanBackward0>)\n",
            "tensor(0.0056, grad_fn=<MeanBackward0>)\n",
            "tensor(0.0056, grad_fn=<MeanBackward0>)\n",
            "tensor(0.0056, grad_fn=<MeanBackward0>)\n",
            "tensor(0.0056, grad_fn=<MeanBackward0>)\n",
            "tensor(0.0056, grad_fn=<MeanBackward0>)\n",
            "tensor(0.0056, grad_fn=<MeanBackward0>)\n",
            "tensor(0.0056, grad_fn=<MeanBackward0>)\n",
            "tensor(0.0056, grad_fn=<MeanBackward0>)\n",
            "tensor(0.0056, grad_fn=<MeanBackward0>)\n",
            "tensor(0.0056, grad_fn=<MeanBackward0>)\n",
            "tensor(0.0056, grad_fn=<MeanBackward0>)\n",
            "tensor(0.0056, grad_fn=<MeanBackward0>)\n",
            "tensor(0.0056, grad_fn=<MeanBackward0>)\n",
            "tensor(0.0056, grad_fn=<MeanBackward0>)\n",
            "tensor(0.0056, grad_fn=<MeanBackward0>)\n",
            "tensor(0.0056, grad_fn=<MeanBackward0>)\n",
            "tensor(0.0056, grad_fn=<MeanBackward0>)\n",
            "tensor(0.0056, grad_fn=<MeanBackward0>)\n",
            "tensor(0.0056, grad_fn=<MeanBackward0>)\n",
            "tensor(0.0056, grad_fn=<MeanBackward0>)\n",
            "tensor(0.0056, grad_fn=<MeanBackward0>)\n",
            "tensor(0.0056, grad_fn=<MeanBackward0>)\n",
            "tensor(0.0056, grad_fn=<MeanBackward0>)\n",
            "tensor(0.0056, grad_fn=<MeanBackward0>)\n",
            "tensor(0.0056, grad_fn=<MeanBackward0>)\n",
            "tensor(0.0056, grad_fn=<MeanBackward0>)\n",
            "tensor(0.0056, grad_fn=<MeanBackward0>)\n",
            "tensor(0.0056, grad_fn=<MeanBackward0>)\n",
            "tensor(0.0056, grad_fn=<MeanBackward0>)\n",
            "tensor(0.0056, grad_fn=<MeanBackward0>)\n",
            "tensor(0.0056, grad_fn=<MeanBackward0>)\n",
            "tensor(0.0056, grad_fn=<MeanBackward0>)\n",
            "tensor(0.0056, grad_fn=<MeanBackward0>)\n",
            "tensor(0.0056, grad_fn=<MeanBackward0>)\n",
            "tensor(0.0056, grad_fn=<MeanBackward0>)\n",
            "tensor(0.0056, grad_fn=<MeanBackward0>)\n",
            "tensor(0.0056, grad_fn=<MeanBackward0>)\n",
            "tensor(0.0056, grad_fn=<MeanBackward0>)\n",
            "tensor(0.0056, grad_fn=<MeanBackward0>)\n",
            "tensor(0.0056, grad_fn=<MeanBackward0>)\n",
            "tensor(0.0056, grad_fn=<MeanBackward0>)\n",
            "tensor(0.0056, grad_fn=<MeanBackward0>)\n",
            "tensor(0.0056, grad_fn=<MeanBackward0>)\n",
            "tensor(0.0056, grad_fn=<MeanBackward0>)\n",
            "tensor(0.0056, grad_fn=<MeanBackward0>)\n",
            "tensor(0.0056, grad_fn=<MeanBackward0>)\n",
            "tensor(0.0056, grad_fn=<MeanBackward0>)\n",
            "tensor(0.0056, grad_fn=<MeanBackward0>)\n",
            "tensor(0.0056, grad_fn=<MeanBackward0>)\n",
            "tensor(0.0056, grad_fn=<MeanBackward0>)\n",
            "tensor(0.0056, grad_fn=<MeanBackward0>)\n",
            "tensor(0.0056, grad_fn=<MeanBackward0>)\n",
            "tensor(0.0056, grad_fn=<MeanBackward0>)\n",
            "tensor(0.0056, grad_fn=<MeanBackward0>)\n",
            "tensor(0.0056, grad_fn=<MeanBackward0>)\n",
            "tensor(0.0056, grad_fn=<MeanBackward0>)\n",
            "tensor(0.0056, grad_fn=<MeanBackward0>)\n",
            "tensor(0.0056, grad_fn=<MeanBackward0>)\n",
            "tensor(0.0056, grad_fn=<MeanBackward0>)\n",
            "tensor(0.0056, grad_fn=<MeanBackward0>)\n",
            "tensor(0.0056, grad_fn=<MeanBackward0>)\n",
            "tensor(0.0056, grad_fn=<MeanBackward0>)\n",
            "tensor(0.0056, grad_fn=<MeanBackward0>)\n",
            "tensor(0.0056, grad_fn=<MeanBackward0>)\n",
            "tensor(0.0056, grad_fn=<MeanBackward0>)\n",
            "tensor(0.0056, grad_fn=<MeanBackward0>)\n",
            "tensor(0.0056, grad_fn=<MeanBackward0>)\n",
            "tensor(0.0056, grad_fn=<MeanBackward0>)\n",
            "tensor(0.0056, grad_fn=<MeanBackward0>)\n",
            "tensor(0.0056, grad_fn=<MeanBackward0>)\n",
            "tensor(0.0056, grad_fn=<MeanBackward0>)\n",
            "tensor(0.0056, grad_fn=<MeanBackward0>)\n",
            "tensor(0.0056, grad_fn=<MeanBackward0>)\n",
            "tensor(0.0056, grad_fn=<MeanBackward0>)\n",
            "tensor(0.0056, grad_fn=<MeanBackward0>)\n",
            "tensor(0.0056, grad_fn=<MeanBackward0>)\n",
            "tensor(0.0056, grad_fn=<MeanBackward0>)\n",
            "tensor(0.0056, grad_fn=<MeanBackward0>)\n",
            "tensor(0.0056, grad_fn=<MeanBackward0>)\n",
            "tensor(0.0056, grad_fn=<MeanBackward0>)\n",
            "tensor(0.0056, grad_fn=<MeanBackward0>)\n",
            "tensor(0.0056, grad_fn=<MeanBackward0>)\n",
            "tensor(0.0056, grad_fn=<MeanBackward0>)\n",
            "tensor(0.0056, grad_fn=<MeanBackward0>)\n",
            "tensor(0.0056, grad_fn=<MeanBackward0>)\n",
            "tensor(0.0056, grad_fn=<MeanBackward0>)\n",
            "tensor(0.0056, grad_fn=<MeanBackward0>)\n",
            "tensor(0.0056, grad_fn=<MeanBackward0>)\n",
            "tensor(0.0056, grad_fn=<MeanBackward0>)\n",
            "tensor(0.0056, grad_fn=<MeanBackward0>)\n",
            "tensor(0.0056, grad_fn=<MeanBackward0>)\n",
            "tensor(0.0056, grad_fn=<MeanBackward0>)\n",
            "tensor(0.0056, grad_fn=<MeanBackward0>)\n",
            "tensor(0.0056, grad_fn=<MeanBackward0>)\n",
            "tensor(0.0056, grad_fn=<MeanBackward0>)\n",
            "tensor(0.0056, grad_fn=<MeanBackward0>)\n",
            "tensor(0.0056, grad_fn=<MeanBackward0>)\n",
            "tensor(0.0056, grad_fn=<MeanBackward0>)\n",
            "tensor(0.0056, grad_fn=<MeanBackward0>)\n",
            "tensor(0.0056, grad_fn=<MeanBackward0>)\n",
            "tensor(0.0056, grad_fn=<MeanBackward0>)\n",
            "tensor(0.0056, grad_fn=<MeanBackward0>)\n",
            "tensor(0.0056, grad_fn=<MeanBackward0>)\n",
            "tensor(0.0056, grad_fn=<MeanBackward0>)\n",
            "tensor(0.0056, grad_fn=<MeanBackward0>)\n",
            "tensor(0.0056, grad_fn=<MeanBackward0>)\n",
            "tensor(0.0056, grad_fn=<MeanBackward0>)\n",
            "tensor(0.0056, grad_fn=<MeanBackward0>)\n",
            "tensor(0.0056, grad_fn=<MeanBackward0>)\n",
            "tensor(0.0056, grad_fn=<MeanBackward0>)\n",
            "tensor(0.0056, grad_fn=<MeanBackward0>)\n",
            "tensor(0.0056, grad_fn=<MeanBackward0>)\n",
            "tensor(0.0056, grad_fn=<MeanBackward0>)\n",
            "tensor(0.0056, grad_fn=<MeanBackward0>)\n",
            "tensor(0.0056, grad_fn=<MeanBackward0>)\n",
            "tensor(0.0056, grad_fn=<MeanBackward0>)\n",
            "tensor(0.0056, grad_fn=<MeanBackward0>)\n",
            "tensor(0.0056, grad_fn=<MeanBackward0>)\n",
            "tensor(0.0056, grad_fn=<MeanBackward0>)\n",
            "tensor(0.0056, grad_fn=<MeanBackward0>)\n",
            "tensor(0.0056, grad_fn=<MeanBackward0>)\n",
            "tensor(0.0056, grad_fn=<MeanBackward0>)\n",
            "tensor(0.0056, grad_fn=<MeanBackward0>)\n",
            "tensor(0.0056, grad_fn=<MeanBackward0>)\n",
            "tensor(0.0056, grad_fn=<MeanBackward0>)\n",
            "tensor(0.0056, grad_fn=<MeanBackward0>)\n",
            "tensor(0.0056, grad_fn=<MeanBackward0>)\n",
            "tensor(0.0056, grad_fn=<MeanBackward0>)\n",
            "tensor(0.0056, grad_fn=<MeanBackward0>)\n",
            "tensor(0.0056, grad_fn=<MeanBackward0>)\n",
            "tensor(0.0056, grad_fn=<MeanBackward0>)\n",
            "tensor(0.0056, grad_fn=<MeanBackward0>)\n",
            "tensor(0.0056, grad_fn=<MeanBackward0>)\n",
            "tensor(0.0056, grad_fn=<MeanBackward0>)\n",
            "tensor(0.0056, grad_fn=<MeanBackward0>)\n",
            "tensor(0.0056, grad_fn=<MeanBackward0>)\n",
            "tensor(0.0056, grad_fn=<MeanBackward0>)\n",
            "tensor(0.0056, grad_fn=<MeanBackward0>)\n",
            "tensor(0.0056, grad_fn=<MeanBackward0>)\n",
            "tensor(0.0056, grad_fn=<MeanBackward0>)\n",
            "tensor(0.0056, grad_fn=<MeanBackward0>)\n",
            "tensor(0.0056, grad_fn=<MeanBackward0>)\n",
            "tensor(0.0056, grad_fn=<MeanBackward0>)\n"
          ]
        }
      ],
      "source": [
        "train(x_train, y_train, model, 300, 0.22)"
      ]
    },
    {
      "cell_type": "markdown",
      "metadata": {
        "id": "dYR9_Lk3dcKn"
      },
      "source": [
        "Here are some additional resources:\n",
        "- [How autograd works](https://www.youtube.com/watch?v=MswxJw-8PvE)\n",
        "- [`torch.utils.data`](https://pytorch.org/docs/stable/data.html)"
      ]
    }
  ],
  "metadata": {
    "colab": {
      "provenance": []
    },
    "kernelspec": {
      "display_name": "Python 3",
      "name": "python3"
    },
    "language_info": {
      "codemirror_mode": {
        "name": "ipython",
        "version": 3
      },
      "file_extension": ".py",
      "mimetype": "text/x-python",
      "name": "python",
      "nbconvert_exporter": "python",
      "pygments_lexer": "ipython3",
      "version": "3.11.4"
    }
  },
  "nbformat": 4,
  "nbformat_minor": 0
}
